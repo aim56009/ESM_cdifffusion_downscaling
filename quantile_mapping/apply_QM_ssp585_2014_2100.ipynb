{
 "cells": [
  {
   "cell_type": "markdown",
   "id": "9581fa9f-5851-40c4-9ec6-b1022b244b6d",
   "metadata": {},
   "source": [
    "# Imports "
   ]
  },
  {
   "cell_type": "code",
   "execution_count": 2,
   "id": "4f022dc1-c0f3-4927-bc9c-98a99cd83da7",
   "metadata": {},
   "outputs": [],
   "source": [
    "%%capture\n",
    "!pip install xarray\n",
    "!pip install wandb\n",
    "!pip install netcdf4\n",
    "!pip install collections\n",
    "!pip install scikit-image\n",
    "!pip install pysteps\n",
    "!pip install xclim\n",
    "!pip install ibicus"
   ]
  },
  {
   "cell_type": "code",
   "execution_count": 3,
   "id": "799dcde8-a9cb-4a44-b166-7d37759f67e2",
   "metadata": {},
   "outputs": [
    {
     "data": {
      "text/plain": [
       "'/dss/dsshome1/0D/ge74xuf2/climate_diffusion'"
      ]
     },
     "execution_count": 3,
     "metadata": {},
     "output_type": "execute_result"
    }
   ],
   "source": [
    "import os\n",
    "new_directory = '/dss/dsshome1/0D/ge74xuf2/climate_diffusion'\n",
    "os.chdir(new_directory)\n",
    "os.getcwd()"
   ]
  },
  {
   "cell_type": "code",
   "execution_count": 4,
   "id": "a569c97a-e498-49d8-84fe-b9c345f6eac6",
   "metadata": {},
   "outputs": [
    {
     "name": "stderr",
     "output_type": "stream",
     "text": [
      "/usr/local/lib/python3.10/dist-packages/xclim/sdba/__init__.py:22: FutureWarning: The SDBA submodule is in the process of being split from `xclim` in order to facilitate development and effective maintenance of the SDBA utilities. The `xclim.sdba` functionality will change in the future. For more information, please visit https://xsdba.readthedocs.io/en/latest/.\n",
      "  warnings.warn(\n"
     ]
    },
    {
     "name": "stdout",
     "output_type": "stream",
     "text": [
      "Pysteps configuration file found at: /usr/local/lib/python3.10/dist-packages/pysteps/pystepsrc\n",
      "\n"
     ]
    }
   ],
   "source": [
    "import numpy as np\n",
    "from torch.utils import data\n",
    "from src.utils import *\n",
    "import xarray as xr\n",
    "from scipy.ndimage import convolve\n",
    "from skimage.transform import rescale\n",
    "import torch\n",
    "\n",
    "from xclim import sdba\n",
    "from src.utils_essential import *\n",
    "\n",
    "from ibicus.debias import QuantileMapping, QuantileDeltaMapping, ISIMIP\n",
    "\n",
    "from src.dataloader_sr import ERA5_P_0_25_to_1_Dataset, QM_GFDL_LR_Dataset_64, gfdl_eval_ssp585_1d, GFDL_P_Dataset_64_ssp_2015_2100_original_unit_before_QM"
   ]
  },
  {
   "cell_type": "markdown",
   "id": "e6ff1dc7-b73c-4cfc-b724-32dd5eff5f59",
   "metadata": {},
   "source": [
    "# Prepare dataloaders (QM of 1d data)"
   ]
  },
  {
   "cell_type": "code",
   "execution_count": 5,
   "id": "c3aa39e6-3d61-4da9-b0a3-b48a26f8304a",
   "metadata": {},
   "outputs": [],
   "source": [
    "bs_valid = 1400"
   ]
  },
  {
   "cell_type": "code",
   "execution_count": 6,
   "id": "035158cf-4b16-409c-8207-62012ff44e12",
   "metadata": {},
   "outputs": [
    {
     "name": "stdout",
     "output_type": "stream",
     "text": [
      "dataset size (31390, 180, 288)\n",
      "GFDL SSP585 1d 64 shape: torch.Size([31390, 1, 64, 64])\n"
     ]
    }
   ],
   "source": [
    "gfdl_ssp585_ds = GFDL_P_Dataset_64_ssp_2015_2100_original_unit_before_QM(\"train\")\n",
    "gfdl_ssp585_dl = data.DataLoader(gfdl_ssp585_ds, batch_size=31390, shuffle=False,drop_last=True)\n",
    "\n",
    "gfdl_ssp585 = next(iter(gfdl_ssp585_dl))\n",
    "print(\"GFDL SSP585 1d 64 shape:\",gfdl_ssp585.shape)"
   ]
  },
  {
   "cell_type": "code",
   "execution_count": 7,
   "id": "5a88c132-1e40-4226-a8d8-85414fc26cf2",
   "metadata": {},
   "outputs": [
    {
     "name": "stdout",
     "output_type": "stream",
     "text": [
      "era5 <class 'xarray.core.dataarray.DataArray'> (8401, 64, 64)\n",
      "dataset size (8371, 64, 64)\n",
      "ERA5 1d 64 shape: torch.Size([8371, 1, 64, 64])\n"
     ]
    }
   ],
   "source": [
    "era5_p_0_25_to_1_t = ERA5_P_0_25_to_1_Dataset(stage='all')\n",
    "dataloader_era5_train_1d_64 = data.DataLoader(era5_p_0_25_to_1_t.data(), batch_size=8371\n",
    "                                              , shuffle=False, drop_last=True,num_workers=2)\n",
    "era5_train = next(iter(dataloader_era5_train_1d_64)).unsqueeze(dim=1)\n",
    "print(\"ERA5 1d 64 shape:\",era5_train.shape)"
   ]
  },
  {
   "cell_type": "code",
   "execution_count": 8,
   "id": "d0bb59ea-3775-4622-bb9a-0fb7a5eb4272",
   "metadata": {},
   "outputs": [
    {
     "name": "stdout",
     "output_type": "stream",
     "text": [
      "mean: 0.37070283\n",
      "std: 0.39181525\n",
      "min: -0.9461164\n",
      "max: 5.897021\n"
     ]
    },
    {
     "data": {
      "text/plain": [
       "(0.37070283, 0.39181525, -0.9461164, 5.897021)"
      ]
     },
     "execution_count": 8,
     "metadata": {},
     "output_type": "execute_result"
    }
   ],
   "source": [
    "era5_p_0_25_to_1_t.get_mean_std()"
   ]
  },
  {
   "cell_type": "markdown",
   "id": "abe3f57e-a717-4120-ae1b-8db5d4ed443c",
   "metadata": {},
   "source": [
    "# Apply QM debiasing to gfdl ssp585 validation "
   ]
  },
  {
   "cell_type": "code",
   "execution_count": 7,
   "id": "a580cf44-e241-4415-b464-a6e569e14932",
   "metadata": {},
   "outputs": [],
   "source": [
    "train_era5 = era5_p_0_25_to_1_t.inverse_dwd_trafo(era5_train)[:8371,:,:,:].squeeze(1).numpy()\n",
    "train_gfdl = gfdl_ssp585[:8371,:,:,:].squeeze(1).numpy()\n",
    "valid_gfdl = gfdl_ssp585.squeeze(1).numpy()"
   ]
  },
  {
   "cell_type": "code",
   "execution_count": 8,
   "id": "1231196c-420a-4a16-ba4a-ea3733854600",
   "metadata": {},
   "outputs": [
    {
     "name": "stderr",
     "output_type": "stream",
     "text": [
      "/tmp/ipykernel_737005/2072883121.py:4: DeprecationWarning: cftime_range() is deprecated, please use xarray.date_range(..., use_cftime=True) instead.\n",
      "  time_coords_long = xr.cftime_range(\"1992-01-01\", periods=8371, freq=\"D\", calendar=\"gregorian\")\n",
      "/tmp/ipykernel_737005/2072883121.py:5: DeprecationWarning: cftime_range() is deprecated, please use xarray.date_range(..., use_cftime=True) instead.\n",
      "  time_coords_short = xr.cftime_range(\"2011-01-01\", periods=31390, freq=\"D\", calendar=\"gregorian\")\n"
     ]
    },
    {
     "name": "stdout",
     "output_type": "stream",
     "text": [
      "Processing completed.\n"
     ]
    }
   ],
   "source": [
    "debiased_valid_gfdl = np.zeros((31390, 64, 64)) \n",
    "\n",
    "# Create synthetic time coordinates\n",
    "time_coords_long = xr.cftime_range(\"1992-01-01\", periods=8371, freq=\"D\", calendar=\"gregorian\")\n",
    "time_coords_short = xr.cftime_range(\"2011-01-01\", periods=31390, freq=\"D\", calendar=\"gregorian\")\n",
    "\n",
    "\n",
    "for lat in range(train_era5.shape[1]):\n",
    "    for lon in range(train_era5.shape[2]):\n",
    "\n",
    "        qm = sdba.adjustment.QuantileDeltaMapping\n",
    "        #qm = sdba.adjustment.EmpiricalQuantileMapping\n",
    "        \n",
    "\n",
    "        ref_data = train_era5[:, lat, lon]\n",
    "        hist_data = train_gfdl[:, lat, lon]\n",
    "        input_data = valid_gfdl[:, lat, lon]\n",
    "\n",
    "        # Pass DataArray instead of Dataset\n",
    "        ref_data_array = xr.DataArray(ref_data, dims=\"time\", coords={\"time\": time_coords_long}, attrs={\"units\": \"dimensionless\"})\n",
    "        hist_data_array = xr.DataArray(hist_data, dims=\"time\", coords={\"time\": time_coords_long}, attrs={\"units\": \"dimensionless\"})\n",
    "        input_data_array = xr.DataArray(input_data, dims=\"time\", coords={\"time\": time_coords_short}, attrs={\"units\": \"dimensionless\"})\n",
    "\n",
    "        # Specify the group and other parameters\n",
    "        group = sdba.adjustment.Grouper(\"time\")\n",
    "\n",
    "        Adj = qm.train(\n",
    "            ref_data_array,\n",
    "            hist=hist_data_array,\n",
    "            nquantiles=100,      # 100 was good\n",
    "            group=group,\n",
    "            skip_input_checks=True\n",
    "        )\n",
    "\n",
    "\n",
    "        mapped = Adj.adjust(input_data_array, skip_input_checks=False)\n",
    "        debiased_valid_gfdl[:, lat, lon] = mapped\n",
    "\n",
    "print(\"Processing completed.\")"
   ]
  },
  {
   "cell_type": "code",
   "execution_count": 9,
   "id": "dbb06eb1-936a-4cc6-8921-5ecfe69d19af",
   "metadata": {},
   "outputs": [
    {
     "data": {
      "text/plain": [
       "(-23.30952652087973, 313.1406499747893)"
      ]
     },
     "execution_count": 9,
     "metadata": {},
     "output_type": "execute_result"
    }
   ],
   "source": [
    "np.min(debiased_valid_gfdl), np.max(debiased_valid_gfdl) "
   ]
  },
  {
   "cell_type": "markdown",
   "id": "84ea2f80-955b-4318-b673-30346f9e2688",
   "metadata": {},
   "source": [
    "## save QM results"
   ]
  },
  {
   "cell_type": "code",
   "execution_count": null,
   "id": "138bf195-556c-4ace-a697-81ca281be17d",
   "metadata": {},
   "outputs": [],
   "source": [
    "np.min(debiased_valid_gfdl), np.max(debiased_valid_gfdl), debiased_valid_gfdl.shape"
   ]
  },
  {
   "cell_type": "code",
   "execution_count": 10,
   "id": "7cbd7704-e5e5-498c-846d-320e455ef768",
   "metadata": {},
   "outputs": [],
   "source": [
    "do_clipping_before_saving = True\n",
    "if do_clipping_before_saving == True:\n",
    "    debiased_valid_gfdl = np.clip(debiased_valid_gfdl,0,2000)"
   ]
  },
  {
   "cell_type": "code",
   "execution_count": 11,
   "id": "1c54bb52-00ba-43a1-a82d-00a14b95c162",
   "metadata": {},
   "outputs": [
    {
     "data": {
      "text/plain": [
       "(0.0, 313.1406499747893, (31390, 64, 64))"
      ]
     },
     "execution_count": 11,
     "metadata": {},
     "output_type": "execute_result"
    }
   ],
   "source": [
    "np.min(debiased_valid_gfdl), np.max(debiased_valid_gfdl), debiased_valid_gfdl.shape"
   ]
  },
  {
   "cell_type": "code",
   "execution_count": 13,
   "id": "07bae5ae-e8db-429c-b408-21736640c391",
   "metadata": {},
   "outputs": [
    {
     "name": "stdout",
     "output_type": "stream",
     "text": [
      "saving quantile mapped gfdl ssp585 dataset\n"
     ]
    }
   ],
   "source": [
    "do_save_qm_gfdl = False\n",
    "\n",
    "if do_save_qm_gfdl == True: \n",
    "    #torch.save(debiased_valid_gfdl, \"/dss/dssfs04/lwp-dss-0002/pn49fu/pn49fu-dss-0002/ge74xuf2/diffusion/data/pr_QDM_GFDL_ssp585_r1i1p1f1_original_units_2015_2100.pth\")\n",
    "    print(\"saving quantile mapped gfdl ssp585 dataset\")"
   ]
  }
 ],
 "metadata": {
  "kernelspec": {
   "display_name": "Python 3 (ipykernel)",
   "language": "python",
   "name": "python3"
  },
  "language_info": {
   "codemirror_mode": {
    "name": "ipython",
    "version": 3
   },
   "file_extension": ".py",
   "mimetype": "text/x-python",
   "name": "python",
   "nbconvert_exporter": "python",
   "pygments_lexer": "ipython3",
   "version": "3.10.12"
  }
 },
 "nbformat": 4,
 "nbformat_minor": 5
}
